{
 "cells": [
  {
   "cell_type": "markdown",
   "id": "9a72df72-66e7-4cd3-be89-5ff6e4e83a26",
   "metadata": {},
   "source": [
    "# 01 – Data Ingestion & Schema Setup\n",
    "\n",
    "**Goals:**  \n",
    "- Connect to SQLite database with our `schema.sql`  \n",
    "- Read price CSV(s) from `data/` and compute daily returns  \n",
    "- Insert those returns into the `returns` table"
   ]
  },
  {
   "cell_type": "code",
   "execution_count": 1,
   "id": "e307ae93-70a9-44f9-941b-ebcabf872683",
   "metadata": {},
   "outputs": [
    {
     "name": "stdout",
     "output_type": "stream",
     "text": [
      "Engine ready, database file at: ..\\data\\portfolio.db\n"
     ]
    }
   ],
   "source": [
    "import os\n",
    "from sqlalchemy import create_engine\n",
    "\n",
    "# Define path for the SQLite database file (in the data/ folder)\n",
    "db_path = os.path.join(\"..\", \"data\", \"portfolio.db\")\n",
    "\n",
    "# Create a SQLAlchemy engine (creates the file if it doesn't exist)\n",
    "engine = create_engine(f\"sqlite:///{db_path}\")\n",
    "\n",
    "print(\"Engine ready, database file at:\", db_path)"
   ]
  },
  {
   "cell_type": "markdown",
   "id": "f411696b-31ec-491e-b809-df1883bf69d8",
   "metadata": {},
   "source": [
    "### 1.2 Execute Schema Statements\n",
    "\n",
    "Our `sql/schema.sql` contains two statements (`DROP TABLE…;` and `CREATE TABLE…;`).  \n",
    "SQLite only executes one SQL statement at a time, so we’ll split on `;` and run each."
   ]
  },
  {
   "cell_type": "code",
   "execution_count": 2,
   "id": "baa1d610-2e40-4033-8d86-7cf38a8fdc8d",
   "metadata": {},
   "outputs": [
    {
     "name": "stdout",
     "output_type": "stream",
     "text": [
      "Schema executed successfully.\n"
     ]
    }
   ],
   "source": [
    "import os\n",
    "\n",
    "# 1.2 Load the DDL file\n",
    "schema_path = os.path.join(\"..\", \"sql\", \"schema.sql\")\n",
    "with open(schema_path, \"r\") as f:\n",
    "    ddl = f.read()\n",
    "\n",
    "# 1.2 Execute each statement separately\n",
    "with engine.begin() as conn:\n",
    "    for stmt in ddl.split(\";\"):\n",
    "        stmt = stmt.strip()\n",
    "        if stmt:                      # skip empty lines\n",
    "            conn.exec_driver_sql(stmt)\n",
    "print(\"Schema executed successfully.\")"
   ]
  },
  {
   "cell_type": "markdown",
   "id": "52fe2262-9365-4d63-aa9f-7283701a650c",
   "metadata": {},
   "source": [
    "### 1.3 Verify Table Creation\n",
    "\n",
    "Check that the `returns` table now exists in our SQLite database."
   ]
  },
  {
   "cell_type": "code",
   "execution_count": 3,
   "id": "c9dcf572-56bd-489c-b8c9-f0011f6f1751",
   "metadata": {},
   "outputs": [
    {
     "name": "stdout",
     "output_type": "stream",
     "text": [
      "Tables in database: ['returns']\n"
     ]
    }
   ],
   "source": [
    "from sqlalchemy import text\n",
    "\n",
    "with engine.connect() as conn:\n",
    "    result = conn.exec_driver_sql(\n",
    "        \"SELECT name FROM sqlite_master WHERE type='table';\"\n",
    "    )\n",
    "    tables = [row[0] for row in result]\n",
    "print(\"Tables in database:\", tables)"
   ]
  },
  {
   "cell_type": "markdown",
   "id": "3a336857-8ab0-4620-a3bb-2abd8f693b68",
   "metadata": {},
   "source": [
    "# 02 – Read Price CSVs & Compute Daily Returns  "
   ]
  },
  {
   "cell_type": "code",
   "execution_count": 4,
   "id": "d018940c-bacc-403d-bf52-be9c119b77b7",
   "metadata": {},
   "outputs": [
    {
     "name": "stdout",
     "output_type": "stream",
     "text": [
      "Note: you may need to restart the kernel to use updated packages.\n"
     ]
    }
   ],
   "source": [
    "# Install yfinance\n",
    "%pip install yfinance --quiet"
   ]
  },
  {
   "cell_type": "code",
   "execution_count": 5,
   "id": "cbfa2591-4b89-40e0-9a18-a43d98346647",
   "metadata": {},
   "outputs": [
    {
     "name": "stderr",
     "output_type": "stream",
     "text": [
      "C:\\Users\\User\\AppData\\Local\\Temp\\ipykernel_7384\\3132212848.py:11: FutureWarning: YF.download() has changed argument auto_adjust default to True\n",
      "  df = yf.download(ticker, start=\"2018-01-01\", end=\"2023-12-31\", progress=False)\n"
     ]
    },
    {
     "name": "stdout",
     "output_type": "stream",
     "text": [
      "Saved ..\\data\\GSPC.csv\n"
     ]
    },
    {
     "name": "stderr",
     "output_type": "stream",
     "text": [
      "C:\\Users\\User\\AppData\\Local\\Temp\\ipykernel_7384\\3132212848.py:11: FutureWarning: YF.download() has changed argument auto_adjust default to True\n",
      "  df = yf.download(ticker, start=\"2018-01-01\", end=\"2023-12-31\", progress=False)\n"
     ]
    },
    {
     "name": "stdout",
     "output_type": "stream",
     "text": [
      "Saved ..\\data\\AAPL.csv\n"
     ]
    },
    {
     "name": "stderr",
     "output_type": "stream",
     "text": [
      "C:\\Users\\User\\AppData\\Local\\Temp\\ipykernel_7384\\3132212848.py:11: FutureWarning: YF.download() has changed argument auto_adjust default to True\n",
      "  df = yf.download(ticker, start=\"2018-01-01\", end=\"2023-12-31\", progress=False)\n"
     ]
    },
    {
     "name": "stdout",
     "output_type": "stream",
     "text": [
      "Saved ..\\data\\TD.csv\n"
     ]
    }
   ],
   "source": [
    "# 2.0 Fetch data via yfinance\n",
    "import os\n",
    "import yfinance as yf\n",
    "\n",
    "tickers = [\"^GSPC\", \"AAPL\", \"TD\"]\n",
    "out_dir = os.path.join(\"..\", \"data\")\n",
    "os.makedirs(out_dir, exist_ok=True)\n",
    "\n",
    "for ticker in tickers:\n",
    "    # Download daily data\n",
    "    df = yf.download(ticker, start=\"2018-01-01\", end=\"2023-12-31\", progress=False)\n",
    "    # Save to CSV\n",
    "    filename = f\"{ticker.replace('^','')}.csv\"  # removes ^ from filename\n",
    "    csv_path = os.path.join(out_dir, filename)\n",
    "    df.to_csv(csv_path)\n",
    "    print(f\"Saved {csv_path}\")"
   ]
  },
  {
   "cell_type": "code",
   "execution_count": 6,
   "id": "6a3e322e-69f2-4bca-a3f1-93544be0ed5c",
   "metadata": {},
   "outputs": [
    {
     "name": "stdout",
     "output_type": "stream",
     "text": [
      "['..\\\\data\\\\AAPL.csv', '..\\\\data\\\\GSPC.csv', '..\\\\data\\\\TD.csv']\n"
     ]
    }
   ],
   "source": [
    "import glob\n",
    "print(glob.glob(os.path.join(\"..\",\"data\",\"*.csv\")))"
   ]
  },
  {
   "cell_type": "markdown",
   "id": "d79d09e6-90f8-484f-9c48-27941342242b",
   "metadata": {},
   "source": [
    "### 2.1 Load CSVs and Compute Daily Returns"
   ]
  },
  {
   "cell_type": "code",
   "execution_count": 7,
   "id": "a7637b29-d373-4644-b759-2221e99e8d54",
   "metadata": {},
   "outputs": [
    {
     "name": "stdout",
     "output_type": "stream",
     "text": [
      "         Date        Close Ticker\n",
      "0        Date          NaN   GSPC\n",
      "1  2018-01-02  2695.810059   GSPC\n",
      "2  2018-01-03  2713.060059   GSPC\n",
      "3  2018-01-04  2723.989990   GSPC\n",
      "4  2018-01-05  2743.149902   GSPC\n",
      "         Date      Close Ticker\n",
      "0        Date        NaN   AAPL\n",
      "1  2018-01-02  40.426826   AAPL\n",
      "2  2018-01-03  40.419785   AAPL\n",
      "3  2018-01-04  40.607540   AAPL\n",
      "4  2018-01-05  41.069859   AAPL\n",
      "         Date      Close Ticker\n",
      "0        Date        NaN     TD\n",
      "1  2018-01-02  43.149807     TD\n",
      "2  2018-01-03  43.340244     TD\n",
      "3  2018-01-04  43.823673     TD\n",
      "4  2018-01-05  44.204559     TD\n"
     ]
    },
    {
     "name": "stderr",
     "output_type": "stream",
     "text": [
      "C:\\Users\\User\\AppData\\Local\\Temp\\ipykernel_7384\\1261152407.py:13: UserWarning: Could not infer format, so each element will be parsed individually, falling back to `dateutil`. To ensure parsing is consistent and as-expected, please specify a format.\n",
      "  df = pd.read_csv(file_path, skiprows=2, names=columns, parse_dates=[\"Date\"])\n",
      "C:\\Users\\User\\AppData\\Local\\Temp\\ipykernel_7384\\1261152407.py:13: UserWarning: Could not infer format, so each element will be parsed individually, falling back to `dateutil`. To ensure parsing is consistent and as-expected, please specify a format.\n",
      "  df = pd.read_csv(file_path, skiprows=2, names=columns, parse_dates=[\"Date\"])\n",
      "C:\\Users\\User\\AppData\\Local\\Temp\\ipykernel_7384\\1261152407.py:13: UserWarning: Could not infer format, so each element will be parsed individually, falling back to `dateutil`. To ensure parsing is consistent and as-expected, please specify a format.\n",
      "  df = pd.read_csv(file_path, skiprows=2, names=columns, parse_dates=[\"Date\"])\n"
     ]
    },
    {
     "data": {
      "text/html": [
       "<div>\n",
       "<style scoped>\n",
       "    .dataframe tbody tr th:only-of-type {\n",
       "        vertical-align: middle;\n",
       "    }\n",
       "\n",
       "    .dataframe tbody tr th {\n",
       "        vertical-align: top;\n",
       "    }\n",
       "\n",
       "    .dataframe thead th {\n",
       "        text-align: right;\n",
       "    }\n",
       "</style>\n",
       "<table border=\"1\" class=\"dataframe\">\n",
       "  <thead>\n",
       "    <tr style=\"text-align: right;\">\n",
       "      <th></th>\n",
       "      <th>Date</th>\n",
       "      <th>Close</th>\n",
       "      <th>Ticker</th>\n",
       "    </tr>\n",
       "  </thead>\n",
       "  <tbody>\n",
       "    <tr>\n",
       "      <th>0</th>\n",
       "      <td>Date</td>\n",
       "      <td>NaN</td>\n",
       "      <td>GSPC</td>\n",
       "    </tr>\n",
       "    <tr>\n",
       "      <th>1</th>\n",
       "      <td>2018-01-02</td>\n",
       "      <td>2695.810059</td>\n",
       "      <td>GSPC</td>\n",
       "    </tr>\n",
       "    <tr>\n",
       "      <th>2</th>\n",
       "      <td>2018-01-03</td>\n",
       "      <td>2713.060059</td>\n",
       "      <td>GSPC</td>\n",
       "    </tr>\n",
       "    <tr>\n",
       "      <th>3</th>\n",
       "      <td>2018-01-04</td>\n",
       "      <td>2723.989990</td>\n",
       "      <td>GSPC</td>\n",
       "    </tr>\n",
       "    <tr>\n",
       "      <th>4</th>\n",
       "      <td>2018-01-05</td>\n",
       "      <td>2743.149902</td>\n",
       "      <td>GSPC</td>\n",
       "    </tr>\n",
       "  </tbody>\n",
       "</table>\n",
       "</div>"
      ],
      "text/plain": [
       "         Date        Close Ticker\n",
       "0        Date          NaN   GSPC\n",
       "1  2018-01-02  2695.810059   GSPC\n",
       "2  2018-01-03  2713.060059   GSPC\n",
       "3  2018-01-04  2723.989990   GSPC\n",
       "4  2018-01-05  2743.149902   GSPC"
      ]
     },
     "execution_count": 7,
     "metadata": {},
     "output_type": "execute_result"
    }
   ],
   "source": [
    "import pandas as pd\n",
    "\n",
    "# Define your data path\n",
    "data_path = os.path.join(\"..\", \"data\")\n",
    "tickers = [\"GSPC\", \"AAPL\", \"TD\"]\n",
    "\n",
    "# Empty DataFrame to collect all returns\n",
    "all_returns = []\n",
    "\n",
    "for ticker in tickers:\n",
    "    file_path = os.path.join(data_path, f\"{ticker}.csv\")\n",
    "    columns = [\"Date\", \"Close\", \"High\", \"Low\", \"Open\", \"Volume\"]\n",
    "    df = pd.read_csv(file_path, skiprows=2, names=columns, parse_dates=[\"Date\"])\n",
    "    df = df[[\"Date\", \"Close\"]].copy()\n",
    "    df[\"Ticker\"] = ticker\n",
    "\n",
    "    all_returns.append(df)  # ✅ append to the list!\n",
    "    print(df.head())        # optional sanity check\n",
    "\n",
    "# Combine into one DataFrame\n",
    "returns_df = pd.concat(all_returns)\n",
    "returns_df.head()"
   ]
  },
  {
   "cell_type": "markdown",
   "id": "44352aec-90b9-4d9b-8e37-ec903e95d7a2",
   "metadata": {},
   "source": [
    "### 2.2 Compute Daily Returns"
   ]
  },
  {
   "cell_type": "code",
   "execution_count": 8,
   "id": "088eb7cd-f52f-4f19-8d5e-65d6d7921c2a",
   "metadata": {},
   "outputs": [
    {
     "data": {
      "text/html": [
       "<div>\n",
       "<style scoped>\n",
       "    .dataframe tbody tr th:only-of-type {\n",
       "        vertical-align: middle;\n",
       "    }\n",
       "\n",
       "    .dataframe tbody tr th {\n",
       "        vertical-align: top;\n",
       "    }\n",
       "\n",
       "    .dataframe thead th {\n",
       "        text-align: right;\n",
       "    }\n",
       "</style>\n",
       "<table border=\"1\" class=\"dataframe\">\n",
       "  <thead>\n",
       "    <tr style=\"text-align: right;\">\n",
       "      <th></th>\n",
       "      <th>Date</th>\n",
       "      <th>Ticker</th>\n",
       "      <th>Daily_Return</th>\n",
       "    </tr>\n",
       "  </thead>\n",
       "  <tbody>\n",
       "    <tr>\n",
       "      <th>1</th>\n",
       "      <td>2018-01-02</td>\n",
       "      <td>AAPL</td>\n",
       "      <td>0.000000</td>\n",
       "    </tr>\n",
       "    <tr>\n",
       "      <th>2</th>\n",
       "      <td>2018-01-03</td>\n",
       "      <td>AAPL</td>\n",
       "      <td>-0.000174</td>\n",
       "    </tr>\n",
       "    <tr>\n",
       "      <th>3</th>\n",
       "      <td>2018-01-04</td>\n",
       "      <td>AAPL</td>\n",
       "      <td>0.004645</td>\n",
       "    </tr>\n",
       "    <tr>\n",
       "      <th>4</th>\n",
       "      <td>2018-01-05</td>\n",
       "      <td>AAPL</td>\n",
       "      <td>0.011385</td>\n",
       "    </tr>\n",
       "    <tr>\n",
       "      <th>5</th>\n",
       "      <td>2018-01-08</td>\n",
       "      <td>AAPL</td>\n",
       "      <td>-0.003714</td>\n",
       "    </tr>\n",
       "    <tr>\n",
       "      <th>6</th>\n",
       "      <td>2018-01-09</td>\n",
       "      <td>AAPL</td>\n",
       "      <td>-0.000115</td>\n",
       "    </tr>\n",
       "    <tr>\n",
       "      <th>7</th>\n",
       "      <td>2018-01-10</td>\n",
       "      <td>AAPL</td>\n",
       "      <td>-0.000229</td>\n",
       "    </tr>\n",
       "    <tr>\n",
       "      <th>8</th>\n",
       "      <td>2018-01-11</td>\n",
       "      <td>AAPL</td>\n",
       "      <td>0.005680</td>\n",
       "    </tr>\n",
       "  </tbody>\n",
       "</table>\n",
       "</div>"
      ],
      "text/plain": [
       "         Date Ticker  Daily_Return\n",
       "1  2018-01-02   AAPL      0.000000\n",
       "2  2018-01-03   AAPL     -0.000174\n",
       "3  2018-01-04   AAPL      0.004645\n",
       "4  2018-01-05   AAPL      0.011385\n",
       "5  2018-01-08   AAPL     -0.003714\n",
       "6  2018-01-09   AAPL     -0.000115\n",
       "7  2018-01-10   AAPL     -0.000229\n",
       "8  2018-01-11   AAPL      0.005680"
      ]
     },
     "execution_count": 8,
     "metadata": {},
     "output_type": "execute_result"
    }
   ],
   "source": [
    "# Drop any rows where the Close price is NaN (these came from header rows)\n",
    "returns_df = returns_df.dropna(subset=[\"Close\"])\n",
    "\n",
    "# Sort by ticker then date\n",
    "returns_df = returns_df.sort_values([\"Ticker\", \"Date\"])\n",
    "\n",
    "# Compute percent change per ticker\n",
    "returns_df[\"Daily_Return\"] = (\n",
    "    returns_df\n",
    "    .groupby(\"Ticker\")[\"Close\"]\n",
    "    .pct_change()\n",
    "    .fillna(0)      # first row per ticker goes to 0\n",
    ")\n",
    "\n",
    "# Keep only the columns we need for the DB\n",
    "returns_df = returns_df[[\"Date\", \"Ticker\", \"Daily_Return\"]]\n",
    "\n",
    "# Sanity check\n",
    "returns_df.head(8)"
   ]
  },
  {
   "cell_type": "markdown",
   "id": "199ceed7-39f5-4ce2-ac08-650dd9cd7464",
   "metadata": {},
   "source": [
    "### 2.3 Insert Returns into `returns` Table"
   ]
  },
  {
   "cell_type": "code",
   "execution_count": 9,
   "id": "e7b194e3-c395-4a47-819a-fc6c4418c860",
   "metadata": {},
   "outputs": [
    {
     "name": "stdout",
     "output_type": "stream",
     "text": [
      "✅ Inserted 4527 rows into 'returns' table.\n"
     ]
    }
   ],
   "source": [
    "to_insert = returns_df.rename(columns={\n",
    "    \"Date\": \"date\",\n",
    "    \"Ticker\": \"ticker\",\n",
    "    \"Daily_Return\": \"daily_return\"\n",
    "})\n",
    "\n",
    "# Insert into SQLite via SQLAlchemy\n",
    "with engine.begin() as conn:\n",
    "    to_insert.to_sql(\n",
    "        name=\"returns\",\n",
    "        con=conn,\n",
    "        if_exists=\"append\",\n",
    "        index=False\n",
    "    )\n",
    "\n",
    "print(f\"✅ Inserted {len(to_insert)} rows into 'returns' table.\")"
   ]
  },
  {
   "cell_type": "markdown",
   "id": "6c7a63e8-36ee-4a49-97de-4e5b55478f69",
   "metadata": {},
   "source": [
    "#### Verify Insertion"
   ]
  },
  {
   "cell_type": "code",
   "execution_count": 10,
   "id": "60c92bbf-5523-47c3-8a0e-26dfe4cbf8f1",
   "metadata": {},
   "outputs": [
    {
     "name": "stdout",
     "output_type": "stream",
     "text": [
      "Total rows in 'returns': 4527\n",
      "Sample rows: [('2018-01-02', 'AAPL', 0.0), ('2018-01-02', 'GSPC', 0.0), ('2018-01-02', 'TD', 0.0), ('2018-01-03', 'AAPL', -0.00017418956089321203), ('2018-01-03', 'GSPC', 0.006398818768781567)]\n"
     ]
    }
   ],
   "source": [
    "from sqlalchemy import text\n",
    "\n",
    "with engine.connect() as conn:\n",
    "    total = conn.exec_driver_sql(\"SELECT COUNT(*) FROM returns\").scalar()\n",
    "    sample = conn.exec_driver_sql(\n",
    "        \"SELECT * FROM returns ORDER BY date, ticker LIMIT 5\"\n",
    "    ).fetchall()\n",
    "\n",
    "print(f\"Total rows in 'returns': {total}\")\n",
    "print(\"Sample rows:\", sample)"
   ]
  },
  {
   "cell_type": "markdown",
   "id": "a448e983-eaaa-42c2-9200-b6107c0f4d08",
   "metadata": {},
   "source": [
    "# 03 - Data Exploration & Querying"
   ]
  },
  {
   "cell_type": "markdown",
   "id": "c373e202-0c0d-4979-b36b-2f83c760df6c",
   "metadata": {},
   "source": [
    "### 3.1 Load Returns from SQL"
   ]
  },
  {
   "cell_type": "code",
   "execution_count": 11,
   "id": "6352627c-6baf-44ea-9b53-9be1c460a6a8",
   "metadata": {},
   "outputs": [
    {
     "name": "stdout",
     "output_type": "stream",
     "text": [
      "        date ticker  daily_return\n",
      "0 2018-01-02   AAPL      0.000000\n",
      "1 2018-01-03   AAPL     -0.000174\n",
      "2 2018-01-04   AAPL      0.004645\n",
      "3 2018-01-05   AAPL      0.011385\n",
      "4 2018-01-08   AAPL     -0.003714\n"
     ]
    }
   ],
   "source": [
    "import pandas as pd\n",
    "\n",
    "# Query all returns into a DataFrame\n",
    "query = \"SELECT date, ticker, daily_return FROM returns\"\n",
    "returns_sql = pd.read_sql(query, con = engine, parse_dates = [\"date\"])\n",
    "\n",
    "# Show a quick pivot to check\n",
    "print(returns_sql.head())"
   ]
  },
  {
   "cell_type": "markdown",
   "id": "aafb8575-4f25-44f2-b304-1cc5aaf3dbc9",
   "metadata": {},
   "source": [
    "### 3.2 Pivot to Wide Format\n",
    "Transform the long table into a matrix"
   ]
  },
  {
   "cell_type": "code",
   "execution_count": 12,
   "id": "55eb45a9-2407-4819-857a-106851d0d50f",
   "metadata": {},
   "outputs": [
    {
     "name": "stdout",
     "output_type": "stream",
     "text": [
      "Wide returns shape:  (1509, 3)\n"
     ]
    },
    {
     "data": {
      "text/html": [
       "<div>\n",
       "<style scoped>\n",
       "    .dataframe tbody tr th:only-of-type {\n",
       "        vertical-align: middle;\n",
       "    }\n",
       "\n",
       "    .dataframe tbody tr th {\n",
       "        vertical-align: top;\n",
       "    }\n",
       "\n",
       "    .dataframe thead th {\n",
       "        text-align: right;\n",
       "    }\n",
       "</style>\n",
       "<table border=\"1\" class=\"dataframe\">\n",
       "  <thead>\n",
       "    <tr style=\"text-align: right;\">\n",
       "      <th>ticker</th>\n",
       "      <th>AAPL</th>\n",
       "      <th>GSPC</th>\n",
       "      <th>TD</th>\n",
       "    </tr>\n",
       "    <tr>\n",
       "      <th>date</th>\n",
       "      <th></th>\n",
       "      <th></th>\n",
       "      <th></th>\n",
       "    </tr>\n",
       "  </thead>\n",
       "  <tbody>\n",
       "    <tr>\n",
       "      <th>2018-01-02</th>\n",
       "      <td>0.000000</td>\n",
       "      <td>0.000000</td>\n",
       "      <td>0.000000</td>\n",
       "    </tr>\n",
       "    <tr>\n",
       "      <th>2018-01-03</th>\n",
       "      <td>-0.000174</td>\n",
       "      <td>0.006399</td>\n",
       "      <td>0.004413</td>\n",
       "    </tr>\n",
       "    <tr>\n",
       "      <th>2018-01-04</th>\n",
       "      <td>0.004645</td>\n",
       "      <td>0.004029</td>\n",
       "      <td>0.011154</td>\n",
       "    </tr>\n",
       "    <tr>\n",
       "      <th>2018-01-05</th>\n",
       "      <td>0.011385</td>\n",
       "      <td>0.007034</td>\n",
       "      <td>0.008691</td>\n",
       "    </tr>\n",
       "    <tr>\n",
       "      <th>2018-01-08</th>\n",
       "      <td>-0.003714</td>\n",
       "      <td>0.001662</td>\n",
       "      <td>-0.002486</td>\n",
       "    </tr>\n",
       "  </tbody>\n",
       "</table>\n",
       "</div>"
      ],
      "text/plain": [
       "ticker          AAPL      GSPC        TD\n",
       "date                                    \n",
       "2018-01-02  0.000000  0.000000  0.000000\n",
       "2018-01-03 -0.000174  0.006399  0.004413\n",
       "2018-01-04  0.004645  0.004029  0.011154\n",
       "2018-01-05  0.011385  0.007034  0.008691\n",
       "2018-01-08 -0.003714  0.001662 -0.002486"
      ]
     },
     "execution_count": 12,
     "metadata": {},
     "output_type": "execute_result"
    }
   ],
   "source": [
    "# Pivot so that each column is a ticker, indexed by the date\n",
    "returns_wide = returns_sql.pivot(\n",
    "    index = \"date\",\n",
    "    columns = \"ticker\",\n",
    "    values = \"daily_return\"\n",
    ").sort_index()\n",
    "\n",
    "# Check the shape and head\n",
    "print(\"Wide returns shape: \", returns_wide.shape)\n",
    "returns_wide.head()"
   ]
  },
  {
   "cell_type": "markdown",
   "id": "820685e8-3970-4249-8c9a-f98edbe42bcb",
   "metadata": {},
   "source": [
    "### 3.3 Calculate Mean & Covariance"
   ]
  },
  {
   "cell_type": "code",
   "execution_count": 13,
   "id": "e4d5051d-8d24-4e24-ad65-d263000dbd2d",
   "metadata": {},
   "outputs": [
    {
     "name": "stdout",
     "output_type": "stream",
     "text": [
      "Mean returns:\n",
      " ticker\n",
      "AAPL    0.00123\n",
      "GSPC    0.00046\n",
      "TD      0.00035\n",
      "dtype: float64\n",
      "\n",
      "Covariance matrix:\n",
      " ticker      AAPL      GSPC        TD\n",
      "ticker                              \n",
      "AAPL    0.000398  0.000207  0.000146\n",
      "GSPC    0.000207  0.000169  0.000145\n",
      "TD      0.000146  0.000145  0.000240\n"
     ]
    }
   ],
   "source": [
    "import numpy as np\n",
    "\n",
    "# Mean daily returns\n",
    "mean_returns = returns_wide.mean()\n",
    "\n",
    "# Covariance matrix of daily returns\n",
    "cov_matrix = returns_wide.cov()\n",
    "\n",
    "print(\"Mean returns:\\n\", mean_returns.round(5))\n",
    "print(\"\\nCovariance matrix:\\n\", cov_matrix.round(8))"
   ]
  },
  {
   "cell_type": "markdown",
   "id": "4823becd-261b-445b-b5a9-df6744e3401e",
   "metadata": {},
   "source": [
    "# 04 - Portfolio Optimization"
   ]
  },
  {
   "cell_type": "markdown",
   "id": "9ad1c5cc-46e1-4975-9e73-b517a4d5b0e6",
   "metadata": {},
   "source": [
    "### 4.1 Optimization Helper Functions"
   ]
  },
  {
   "cell_type": "code",
   "execution_count": 14,
   "id": "996bca64-498c-48b1-84d9-068d80e766ad",
   "metadata": {},
   "outputs": [],
   "source": [
    "import numpy as np\n",
    "from scipy.optimize import minimize\n",
    "\n",
    "# Number of assets\n",
    "assets = list(returns_wide.columns)\n",
    "n = len(assets)\n",
    "\n",
    "# Helper portolio variance\n",
    "def port_variance(weights, cov_matrix):\n",
    "    return weights.T @ cov_matrix.values @ weights\n",
    "\n",
    "# Helper portfolio return\n",
    "def port_return(weights, mean_returns):\n",
    "    return weights @ mean_returns.values\n",
    "\n",
    "# Contrain weights sum to 1\n",
    "cons = ({\"type\": \"eq\", \"fun\": lambda w: np.sum(w) - 1})\n",
    "\n",
    "# Bounds: no shorting so weights between 0 and 1\n",
    "bnds = tuple((0,1) for _ in range(n))"
   ]
  },
  {
   "cell_type": "markdown",
   "id": "c1a7735c-b05b-4da0-93a2-4189c0790ddc",
   "metadata": {},
   "source": [
    "### 4.2 Find Minimum Variance Portfolio"
   ]
  },
  {
   "cell_type": "code",
   "execution_count": 15,
   "id": "71c480b6-21ef-4151-9223-d4d53c4bc719",
   "metadata": {},
   "outputs": [
    {
     "name": "stdout",
     "output_type": "stream",
     "text": [
      "Minimum‐Variance Portfolio Weights for target return 0.00068\n",
      "AAPL    0.3333\n",
      "GSPC    0.3333\n",
      "TD      0.3333\n",
      "dtype: float64\n",
      "Portfolio variance: 0.00020034\n",
      "Portfolio return: 0.00068\n"
     ]
    }
   ],
   "source": [
    "# Set target to average of mean_returns\n",
    "target = mean_returns.mean()\n",
    "\n",
    "# Add constraint: portfolio return = target\n",
    "cons_target = (\n",
    "    cons,\n",
    "    {'type': 'eq', 'fun': lambda w: port_return(w, mean_returns) - target}\n",
    ")\n",
    "\n",
    "# Initial guess: even weights\n",
    "w0 = np.array(n * [1. / n])\n",
    "\n",
    "# Run optimization\n",
    "opt = minimize(\n",
    "    fun=port_variance,\n",
    "    x0=w0,\n",
    "    args=(cov_matrix,),\n",
    "    method='SLSQP',\n",
    "    bounds=bnds,\n",
    "    constraints=cons_target\n",
    ")\n",
    "\n",
    "min_var_weights = opt.x\n",
    "min_var_weights = pd.Series(min_var_weights, index=assets)\n",
    "\n",
    "print(\"Minimum‐Variance Portfolio Weights for target return\", round(target,5))\n",
    "print(min_var_weights.round(4))\n",
    "print(\"Portfolio variance:\", round(port_variance(min_var_weights, cov_matrix),8))\n",
    "print(\"Portfolio return:\", round(port_return(min_var_weights, mean_returns),5))"
   ]
  },
  {
   "cell_type": "markdown",
   "id": "b45afd6d-5df2-4c95-802b-5708b49514f9",
   "metadata": {},
   "source": [
    "#### 4.3 Compute & Plot Efficient Frontier"
   ]
  },
  {
   "cell_type": "code",
   "execution_count": 32,
   "id": "c1b2bc3c-31f9-4eb8-b1f7-350736dd2fad",
   "metadata": {},
   "outputs": [
    {
     "name": "stdout",
     "output_type": "stream",
     "text": [
      "Tangent Portfolio Weights:\n",
      " AAPL    1.0\n",
      "GSPC    0.0\n",
      "TD      0.0\n",
      "dtype: float64\n",
      "Return: 0.00123, Variance: 0.00039792, Sharpe: 0.061\n"
     ]
    }
   ],
   "source": [
    "import numpy as np\n",
    "from scipy.optimize import minimize\n",
    "\n",
    "# Define risk-free rate (daily)\n",
    "rf = 0.000006\n",
    "\n",
    "def neg_sharpe(weights, mean_returns, cov_matrix, rf):\n",
    "    \"\"\"Negative Sharpe ratio for given weights.\"\"\"\n",
    "    ret = weights @ mean_returns.values\n",
    "    var = weights.T @ cov_matrix.values @ weights\n",
    "    return - (ret - rf) / np.sqrt(var)\n",
    "\n",
    "# Constraints: sum of weights = 1\n",
    "cons_sharpe = ({'type': 'eq', 'fun': lambda w: np.sum(w) - 1},)\n",
    "\n",
    "# Initial guess\n",
    "w0 = np.array(n * [1. / n])\n",
    "\n",
    "# Run optimization\n",
    "opt_sr = minimize(\n",
    "    fun=neg_sharpe,\n",
    "    x0=w0,\n",
    "    args=(mean_returns, cov_matrix, rf),\n",
    "    method='SLSQP',\n",
    "    bounds=bnds,\n",
    "    constraints=cons_sharpe\n",
    ")\n",
    "\n",
    "tangent_weights = pd.Series(opt_sr.x, index=assets)\n",
    "tangent_ret   = port_return(opt_sr.x, mean_returns)\n",
    "tangent_var   = port_variance(opt_sr.x, cov_matrix)\n",
    "tangent_sharpe = (tangent_ret - rf) / np.sqrt(tangent_var)\n",
    "\n",
    "print(\"Tangent Portfolio Weights:\\n\", tangent_weights.round(4))\n",
    "print(f\"Return: {tangent_ret:.5f}, Variance: {tangent_var:.8f}, Sharpe: {tangent_sharpe:.3f}\")\n"
   ]
  },
  {
   "cell_type": "code",
   "execution_count": 24,
   "id": "e6392b84-cf41-4e07-9076-6b17dc6caf01",
   "metadata": {},
   "outputs": [
    {
     "data": {
      "image/png": "[encoded data removed]",
      "text/plain": [
       "<Figure size 600x400 with 1 Axes>"
      ]
     },
     "metadata": {},
     "output_type": "display_data"
    }
   ],
   "source": [
    "import matplotlib.pyplot as plt\n",
    "\n",
    "# Generate target returns\n",
    "target_returns = np.linspace(mean_returns.min(), mean_returns.max(), 50)\n",
    "ef_vars = []\n",
    "ef_rets = []\n",
    "\n",
    "for tr in target_returns:\n",
    "    cons_tr = (\n",
    "        cons,\n",
    "        {'type': 'eq', 'fun': lambda w, tr=tr: port_return(w, mean_returns) - tr}\n",
    "    )\n",
    "    res = minimize(\n",
    "        fun=port_variance,\n",
    "        x0=w0,\n",
    "        args=(cov_matrix,),\n",
    "        method='SLSQP',\n",
    "        bounds=bnds,\n",
    "        constraints=cons_tr\n",
    "    )\n",
    "    if res.success:\n",
    "        ef_vars.append(port_variance(res.x, cov_matrix))\n",
    "        ef_rets.append(port_return(res.x, mean_returns))\n",
    "\n",
    "# Plot\n",
    "plt.figure(figsize=(6,4))\n",
    "plt.plot(ef_vars, ef_rets, 'b--', lw=2)\n",
    "plt.xlabel(\"Portfolio Variance\")\n",
    "plt.ylabel(\"Portfolio Return\")\n",
    "plt.title(\"Efficient Frontier\")\n",
    "plt.show()"
   ]
  },
  {
   "cell_type": "markdown",
   "id": "57046132-4d65-4f1f-98d7-877ee3d77354",
   "metadata": {},
   "source": [
    "# 05 - Summary of Results\n",
    "### 5.1 Saving Results"
   ]
  },
  {
   "cell_type": "code",
   "execution_count": 26,
   "id": "959ba56f-9c37-49dd-ae7a-342e77685c64",
   "metadata": {},
   "outputs": [],
   "source": [
    "# Save portfolio weights\n",
    "min_var_weights.to_csv(\"min_variance_weights.csv\", header = True)\n",
    "tangent_weights.to_csv(\"tangent_weights.csv\", header=True)\n",
    "\n",
    "# Save and return covariance matrix\n",
    "mean_returns.to_csv(\"mean_returns.csv\", header = True)\n",
    "cov_matrix.to_csv(\"cov_matrix.csv\", header = True)"
   ]
  },
  {
   "cell_type": "markdown",
   "id": "05492817-15b5-4aee-942c-9a8a4ed7e5f0",
   "metadata": {},
   "source": [
    "### 5.3 Portfolio Performance Summary"
   ]
  },
  {
   "cell_type": "code",
   "execution_count": 28,
   "id": "808a60f3-744c-4d8f-9475-c0b1058dd612",
   "metadata": {},
   "outputs": [],
   "source": [
    "# Calculate stats for summary table\n",
    "\n",
    "min_var_ret = port_return(min_var_weights, mean_returns)\n",
    "min_var_var = port_variance(min_var_weights, cov_matrix)\n",
    "\n",
    "tangent_ret = port_return(tangent_weights, mean_returns)\n",
    "tangent_var = port_variance(tangent_weights, cov_matrix)"
   ]
  },
  {
   "cell_type": "code",
   "execution_count": 34,
   "id": "015670dd-cc91-4556-9c32-deed55926bdc",
   "metadata": {},
   "outputs": [
    {
     "name": "stdout",
     "output_type": "stream",
     "text": [
      "              Portfolio    Return  Variance    Sharpe\n",
      "0          Min-Variance  0.000679  0.000200       NaN\n",
      "1  Tangent (Max Sharpe)  0.001229  0.000398  0.061609\n"
     ]
    }
   ],
   "source": [
    "summary_df = pd.DataFrame({\n",
    "    \"Portfolio\": [\"Min-Variance\", \"Tangent (Max Sharpe)\"],\n",
    "    \"Return\": [min_var_ret, tangent_ret],\n",
    "    \"Variance\": [min_var_var, tangent_var],\n",
    "    \"Sharpe\": [None, tangent_sharpe]\n",
    "})\n",
    "print(summary_df)"
   ]
  },
  {
   "cell_type": "code",
   "execution_count": null,
   "id": "a2267060-b736-4ec1-80ea-b1ff2a324d87",
   "metadata": {},
   "outputs": [],
   "source": []
  }
 ],
 "metadata": {
  "kernelspec": {
   "display_name": "Python [conda env:base] *",
   "language": "python",
   "name": "conda-base-py"
  },
  "language_info": {
   "codemirror_mode": {
    "name": "ipython",
    "version": 3
   },
   "file_extension": ".py",
   "mimetype": "text/x-python",
   "name": "python",
   "nbconvert_exporter": "python",
   "pygments_lexer": "ipython3",
   "version": "3.12.7"
  }
 },
 "nbformat": 4,
 "nbformat_minor": 5
}
