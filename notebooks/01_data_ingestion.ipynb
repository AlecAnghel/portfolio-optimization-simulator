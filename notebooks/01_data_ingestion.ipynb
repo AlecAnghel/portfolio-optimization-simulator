{
 "cells": [
  {
   "cell_type": "markdown",
   "id": "9a72df72-66e7-4cd3-be89-5ff6e4e83a26",
   "metadata": {},
   "source": [
    "# 01 – Data Ingestion & Schema Setup\n",
    "\n",
    "**Goals:**  \n",
    "- Connect to SQLite database with our `schema.sql`  \n",
    "- Read price CSV(s) from `data/` and compute daily returns  \n",
    "- Insert those returns into the `returns` table"
   ]
  },
  {
   "cell_type": "code",
   "execution_count": null,
   "id": "baa1d610-2e40-4033-8d86-7cf38a8fdc8d",
   "metadata": {},
   "outputs": [],
   "source": []
  }
 ],
 "metadata": {
  "kernelspec": {
   "display_name": "Python 3 (ipykernel)",
   "language": "python",
   "name": "python3"
  },
  "language_info": {
   "codemirror_mode": {
    "name": "ipython",
    "version": 3
   },
   "file_extension": ".py",
   "mimetype": "text/x-python",
   "name": "python",
   "nbconvert_exporter": "python",
   "pygments_lexer": "ipython3",
   "version": "3.9.23"
  }
 },
 "nbformat": 4,
 "nbformat_minor": 5
}
