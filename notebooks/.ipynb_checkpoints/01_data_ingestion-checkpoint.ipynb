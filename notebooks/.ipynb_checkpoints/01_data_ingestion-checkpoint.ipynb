{
 "cells": [
  {
   "cell_type": "markdown",
   "id": "9a72df72-66e7-4cd3-be89-5ff6e4e83a26",
   "metadata": {},
   "source": [
    "# 01 – Data Ingestion & Schema Setup\n",
    "\n",
    "**Goals:**  \n",
    "- Connect to SQLite database with our `schema.sql`  \n",
    "- Read price CSV(s) from `data/` and compute daily returns  \n",
    "- Insert those returns into the `returns` table"
   ]
  },
  {
   "cell_type": "code",
   "execution_count": 26,
   "id": "e307ae93-70a9-44f9-941b-ebcabf872683",
   "metadata": {},
   "outputs": [
    {
     "name": "stdout",
     "output_type": "stream",
     "text": [
      "Engine ready, database file at: ..\\data\\portfolio.db\n"
     ]
    }
   ],
   "source": [
    "import os\n",
    "from sqlalchemy import create_engine\n",
    "\n",
    "# Define path for the SQLite database file (in the data/ folder)\n",
    "db_path = os.path.join(\"..\", \"data\", \"portfolio.db\")\n",
    "\n",
    "# Create a SQLAlchemy engine (creates the file if it doesn't exist)\n",
    "engine = create_engine(f\"sqlite:///{db_path}\")\n",
    "\n",
    "print(\"Engine ready, database file at:\", db_path)"
   ]
  },
  {
   "cell_type": "markdown",
   "id": "f411696b-31ec-491e-b809-df1883bf69d8",
   "metadata": {},
   "source": [
    "### 1.2 Execute Schema Statements\n",
    "\n",
    "Our `sql/schema.sql` contains two statements (`DROP TABLE…;` and `CREATE TABLE…;`).  \n",
    "SQLite only executes one SQL statement at a time, so we’ll split on `;` and run each."
   ]
  },
  {
   "cell_type": "code",
   "execution_count": 21,
   "id": "baa1d610-2e40-4033-8d86-7cf38a8fdc8d",
   "metadata": {},
   "outputs": [
    {
     "name": "stdout",
     "output_type": "stream",
     "text": [
      "Schema executed successfully.\n"
     ]
    }
   ],
   "source": [
    "import os\n",
    "\n",
    "# 1.2 Load the DDL file\n",
    "schema_path = os.path.join(\"..\", \"sql\", \"schema.sql\")\n",
    "with open(schema_path, \"r\") as f:\n",
    "    ddl = f.read()\n",
    "\n",
    "# 1.2 Execute each statement separately\n",
    "with engine.begin() as conn:\n",
    "    for stmt in ddl.split(\";\"):\n",
    "        stmt = stmt.strip()\n",
    "        if stmt:                      # skip empty lines\n",
    "            conn.exec_driver_sql(stmt)\n",
    "print(\"Schema executed successfully.\")"
   ]
  },
  {
   "cell_type": "markdown",
   "id": "52fe2262-9365-4d63-aa9f-7283701a650c",
   "metadata": {},
   "source": [
    "### 1.3 Verify Table Creation\n",
    "\n",
    "Check that the `returns` table now exists in our SQLite database."
   ]
  },
  {
   "cell_type": "code",
   "execution_count": 23,
   "id": "c9dcf572-56bd-489c-b8c9-f0011f6f1751",
   "metadata": {},
   "outputs": [
    {
     "name": "stdout",
     "output_type": "stream",
     "text": [
      "Tables in database: ['returns']\n"
     ]
    }
   ],
   "source": [
    "from sqlalchemy import text\n",
    "\n",
    "with engine.connect() as conn:\n",
    "    result = conn.exec_driver_sql(\n",
    "        \"SELECT name FROM sqlite_master WHERE type='table';\"\n",
    "    )\n",
    "    tables = [row[0] for row in result]\n",
    "print(\"Tables in database:\", tables)"
   ]
  },
  {
   "cell_type": "markdown",
   "id": "3a336857-8ab0-4620-a3bb-2abd8f693b68",
   "metadata": {},
   "source": [
    "# 02 – Read Price CSVs & Compute Daily Returns\n",
    "\n",
    "### 2.1 Load CSVs and Compute Returns\n",
    "\n",
    "- Read each ticker’s daily price CSV from `data/`  \n",
    "- Compute simple daily return = (Close<sub>t</sub> / Close<sub>t–1</sub>) – 1  \n",
    "- Assemble all tickers into a single DataFrame with columns: date, ticker, daily_return  "
   ]
  },
  {
   "cell_type": "code",
   "execution_count": 28,
   "id": "d018940c-bacc-403d-bf52-be9c119b77b7",
   "metadata": {},
   "outputs": [
    {
     "name": "stdout",
     "output_type": "stream",
     "text": [
      "Note: you may need to restart the kernel to use updated packages.\n"
     ]
    }
   ],
   "source": [
    "# Install yfinance\n",
    "%pip install yfinance --quiet"
   ]
  },
  {
   "cell_type": "code",
   "execution_count": 29,
   "id": "cbfa2591-4b89-40e0-9a18-a43d98346647",
   "metadata": {},
   "outputs": [
    {
     "name": "stderr",
     "output_type": "stream",
     "text": [
      "C:\\Users\\User\\AppData\\Local\\Temp\\ipykernel_14860\\3132212848.py:11: FutureWarning: YF.download() has changed argument auto_adjust default to True\n",
      "  df = yf.download(ticker, start=\"2018-01-01\", end=\"2023-12-31\", progress=False)\n"
     ]
    },
    {
     "name": "stdout",
     "output_type": "stream",
     "text": [
      "Saved ..\\data\\GSPC.csv\n"
     ]
    },
    {
     "name": "stderr",
     "output_type": "stream",
     "text": [
      "C:\\Users\\User\\AppData\\Local\\Temp\\ipykernel_14860\\3132212848.py:11: FutureWarning: YF.download() has changed argument auto_adjust default to True\n",
      "  df = yf.download(ticker, start=\"2018-01-01\", end=\"2023-12-31\", progress=False)\n"
     ]
    },
    {
     "name": "stdout",
     "output_type": "stream",
     "text": [
      "Saved ..\\data\\AAPL.csv\n"
     ]
    },
    {
     "name": "stderr",
     "output_type": "stream",
     "text": [
      "C:\\Users\\User\\AppData\\Local\\Temp\\ipykernel_14860\\3132212848.py:11: FutureWarning: YF.download() has changed argument auto_adjust default to True\n",
      "  df = yf.download(ticker, start=\"2018-01-01\", end=\"2023-12-31\", progress=False)\n"
     ]
    },
    {
     "name": "stdout",
     "output_type": "stream",
     "text": [
      "Saved ..\\data\\TD.csv\n"
     ]
    }
   ],
   "source": [
    "# 2.0 Fetch data via yfinance\n",
    "import os\n",
    "import yfinance as yf\n",
    "\n",
    "tickers = [\"^GSPC\", \"AAPL\", \"TD\"]\n",
    "out_dir = os.path.join(\"..\", \"data\")\n",
    "os.makedirs(out_dir, exist_ok=True)\n",
    "\n",
    "for ticker in tickers:\n",
    "    # Download daily data\n",
    "    df = yf.download(ticker, start=\"2018-01-01\", end=\"2023-12-31\", progress=False)\n",
    "    # Save to CSV\n",
    "    filename = f\"{ticker.replace('^','')}.csv\"  # removes ^ from filename\n",
    "    csv_path = os.path.join(out_dir, filename)\n",
    "    df.to_csv(csv_path)\n",
    "    print(f\"Saved {csv_path}\")"
   ]
  },
  {
   "cell_type": "code",
   "execution_count": null,
   "id": "6a3e322e-69f2-4bca-a3f1-93544be0ed5c",
   "metadata": {},
   "outputs": [],
   "source": []
  }
 ],
 "metadata": {
  "kernelspec": {
   "display_name": "Python [conda env:base] *",
   "language": "python",
   "name": "conda-base-py"
  },
  "language_info": {
   "codemirror_mode": {
    "name": "ipython",
    "version": 3
   },
   "file_extension": ".py",
   "mimetype": "text/x-python",
   "name": "python",
   "nbconvert_exporter": "python",
   "pygments_lexer": "ipython3",
   "version": "3.12.7"
  }
 },
 "nbformat": 4,
 "nbformat_minor": 5
}
